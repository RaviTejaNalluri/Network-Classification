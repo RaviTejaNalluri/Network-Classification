{
 "cells": [
  {
   "cell_type": "code",
   "execution_count": 1,
   "id": "227a9c60-2a98-4def-b9e3-64f40585beb2",
   "metadata": {},
   "outputs": [
    {
     "name": "stderr",
     "output_type": "stream",
     "text": [
      "WARNING: No IPv4 address found on anpi0 !\n",
      "WARNING: No IPv4 address found on anpi2 !\n",
      "WARNING: more No IPv4 address found on anpi1 !\n"
     ]
    }
   ],
   "source": [
    "from scapy.all import *\n",
    "import csv\n",
    "import os\n",
    "import pandas as pd\n",
    "import numpy as np"
   ]
  },
  {
   "cell_type": "code",
   "execution_count": 2,
   "id": "a5d4bda8-bd82-4dc9-a514-f7601749623f",
   "metadata": {},
   "outputs": [],
   "source": []
  },
  {
   "cell_type": "code",
   "execution_count": 3,
   "id": "b4f1b1b8-4dea-415e-94a9-504539c2aa0b",
   "metadata": {},
   "outputs": [],
   "source": [
    "def run_for_all(pcap_file):\n",
    "    packets=rdpcap(pcap_file)\n",
    "    if 'netflix' in pcap_file or 'youtube' in pcap_file:\n",
    "        label = 'video_stream'\n",
    "    elif 'skype' in pcap_file:\n",
    "        label = 'messaging'\n",
    "    elif 'sftp' in pcap_file:\n",
    "        label = 'file_transfer'\n",
    "    elif 'regular_browsing' in pcap_file:\n",
    "        label = 'regular_browsing'\n",
    "    else:\n",
    "        print(pcap_file)\n",
    "        \n",
    "    print(label,pcap_file, len(packets))\n",
    "\n",
    "    packet_list = []\n",
    "    \n",
    "    for packet in packets:\n",
    "        if IP in packet:\n",
    "            packet_info = {\n",
    "                'label': label,\n",
    "                'timestamp': packet.time,\n",
    "                'source_ip': packet[IP].src,\n",
    "                'destination_ip': packet[IP].dst,\n",
    "                'protocol': packet[IP].proto,\n",
    "                'source_port': packet[IP].sport if TCP in packet or UDP in packet else None,\n",
    "                'destination_port': packet[IP].dport if TCP in packet or UDP in packet else None,\n",
    "                'packet_length': packet[IP].len\n",
    "            }\n",
    "            packet_list.append(packet_info)\n",
    "    \n",
    "    df = pd.DataFrame(packet_list)\n",
    "    return df"
   ]
  },
  {
   "cell_type": "code",
   "execution_count": 9,
   "id": "d266eee5-3348-4ddc-a8e3-9e5f82bee728",
   "metadata": {},
   "outputs": [
    {
     "name": "stdout",
     "output_type": "stream",
     "text": [
      "file_transfer dataset/nonvpn_sftp_capture2.pcap 338865\n"
     ]
    }
   ],
   "source": [
    "df = run_for_all(\"dataset/nonvpn_sftp_capture2.pcap\")"
   ]
  },
  {
   "cell_type": "code",
   "execution_count": 10,
   "id": "191f72c1-ff27-41ef-b38e-b5b91f1b4c16",
   "metadata": {},
   "outputs": [
    {
     "name": "stdout",
     "output_type": "stream",
     "text": [
      "<bound method NDFrame.head of                 label          timestamp     source_ip destination_ip  \\\n",
      "0       file_transfer  1563285946.421604    10.113.1.2     10.115.1.2   \n",
      "1       file_transfer  1563285946.421654    10.113.1.2     10.115.1.2   \n",
      "2       file_transfer  1563285946.421993    10.115.1.2     10.113.1.2   \n",
      "3       file_transfer  1563285946.422040    10.115.1.2     10.113.1.2   \n",
      "4       file_transfer  1563285946.422849  10.113.1.150   10.115.1.123   \n",
      "...               ...                ...           ...            ...   \n",
      "338860  file_transfer  1563285955.549798    10.115.1.2     10.113.1.2   \n",
      "338861  file_transfer  1563285955.550136    10.113.1.2     10.115.1.2   \n",
      "338862  file_transfer  1563285955.550200    10.113.1.2     10.115.1.2   \n",
      "338863  file_transfer  1563285955.551482  10.115.1.123   10.113.1.150   \n",
      "338864  file_transfer  1563285955.551855  10.113.1.150   10.115.1.123   \n",
      "\n",
      "        protocol  source_port  destination_port  packet_length  \n",
      "0             17        18929                53             83  \n",
      "1             17        42535                53             83  \n",
      "2             17           53             18929             99  \n",
      "3             17           53             42535             83  \n",
      "4              6        45280                22             60  \n",
      "...          ...          ...               ...            ...  \n",
      "338860        17        12956                53             83  \n",
      "338861        17           53              3437             99  \n",
      "338862        17           53             12956             83  \n",
      "338863         6           22             45280             52  \n",
      "338864         6        45280                22             52  \n",
      "\n",
      "[338865 rows x 8 columns]>\n"
     ]
    }
   ],
   "source": [
    "print(df.head)"
   ]
  },
  {
   "cell_type": "code",
   "execution_count": 11,
   "id": "e6222c4e-c174-42ae-8698-d79af410bc62",
   "metadata": {},
   "outputs": [],
   "source": [
    "max_timestamp = df['timestamp'].max()\n",
    "min_timestamp = df['timestamp'].min()"
   ]
  },
  {
   "cell_type": "code",
   "execution_count": 16,
   "id": "347a2037-81d2-460e-a82d-40dc34b98f33",
   "metadata": {},
   "outputs": [
    {
     "name": "stdout",
     "output_type": "stream",
     "text": [
      "1563285955.551855\n",
      "1563285946.421604\n",
      "difference =  9.130251\n",
      "\n"
     ]
    }
   ],
   "source": [
    "print(max_timestamp)\n",
    "print(min_timestamp)\n",
    "difference = max_timestamp - min_timestamp\n",
    "print(\"difference = \", difference)\n",
    "print()"
   ]
  },
  {
   "cell_type": "code",
   "execution_count": 17,
   "id": "ce9ba69e-2d63-4fe3-ab43-5dfa78f8ebbb",
   "metadata": {},
   "outputs": [
    {
     "name": "stdout",
     "output_type": "stream",
     "text": [
      "37114.53277680975035626074245\n"
     ]
    }
   ],
   "source": [
    "print(len(df)/difference)"
   ]
  },
  {
   "cell_type": "code",
   "execution_count": 19,
   "id": "4c132284-6253-43a1-a085-a17ca353e342",
   "metadata": {},
   "outputs": [
    {
     "name": "stdout",
     "output_type": "stream",
     "text": [
      "[17  6]\n"
     ]
    }
   ],
   "source": [
    "unique_protocols = df['protocol'].unique()\n",
    "print(unique_protocols)"
   ]
  },
  {
   "cell_type": "code",
   "execution_count": 20,
   "id": "0d3d13cd-42c1-4a93-af2e-e642b99ee74d",
   "metadata": {},
   "outputs": [
    {
     "name": "stdout",
     "output_type": "stream",
     "text": [
      "video_stream dataset/vpn_youtube_capture1.pcap 119639\n"
     ]
    }
   ],
   "source": [
    "df = run_for_all(\"dataset/vpn_youtube_capture1.pcap\")"
   ]
  },
  {
   "cell_type": "code",
   "execution_count": 4,
   "id": "8623c831-3dd7-4af8-aa60-643fa230d8a5",
   "metadata": {},
   "outputs": [],
   "source": [
    "def analyse_flow(df):\n",
    "    df = df.sort_values(by='timestamp')\n",
    "    print(df.head)\n",
    "    max_timestamp = df['timestamp'].max()\n",
    "    min_timestamp = df['timestamp'].min()\n",
    "    print(max_timestamp)\n",
    "    print(min_timestamp)\n",
    "    difference = max_timestamp - min_timestamp\n",
    "    print(\"difference = \", difference)\n",
    "    print()\n",
    "    print(len(df))\n",
    "    print(len(df)/difference)\n",
    "    print()"
   ]
  },
  {
   "cell_type": "code",
   "execution_count": 33,
   "id": "28d481f0-cd0c-4d5a-9a2a-78f25c6d4c9e",
   "metadata": {},
   "outputs": [
    {
     "name": "stdout",
     "output_type": "stream",
     "text": [
      "<bound method NDFrame.head of                   label          timestamp       source_ip destination_ip  \\\n",
      "0      regular_browsing  1710712073.207083    192.168.0.24  192.168.0.255   \n",
      "1      regular_browsing  1710712074.232191    192.168.0.24  192.168.0.255   \n",
      "2      regular_browsing  1710712075.254705    192.168.0.24  192.168.0.255   \n",
      "3      regular_browsing  1710712076.176512    192.168.0.24  192.168.0.255   \n",
      "4      regular_browsing  1710712077.200380    192.168.0.24  192.168.0.255   \n",
      "...                 ...                ...             ...            ...   \n",
      "82515  regular_browsing  1710712363.188150   192.168.0.189  54.159.138.33   \n",
      "82516  regular_browsing  1710712363.205631    192.168.0.24  192.168.0.255   \n",
      "82517  regular_browsing  1710712363.206057  100.20.199.161  192.168.0.189   \n",
      "82518  regular_browsing  1710712363.206702  54.184.255.164  192.168.0.189   \n",
      "82519  regular_browsing  1710712363.294630   54.159.138.33  192.168.0.189   \n",
      "\n",
      "       protocol  source_port  destination_port  packet_length  \n",
      "0            17      54915.0           54915.0            291  \n",
      "1            17      54915.0           54915.0            291  \n",
      "2            17      54915.0           54915.0            291  \n",
      "3            17      54915.0           54915.0            291  \n",
      "4            17      54915.0           54915.0            291  \n",
      "...         ...          ...               ...            ...  \n",
      "82515         6      36540.0             443.0             52  \n",
      "82516        17      54915.0           54915.0            291  \n",
      "82517         6        443.0           35328.0             52  \n",
      "82518         6        443.0           50232.0             52  \n",
      "82519         6        443.0           36540.0             52  \n",
      "\n",
      "[82520 rows x 8 columns]>\n",
      "1710712363.294630\n",
      "1710712073.207083\n",
      "difference =  290.087547\n",
      "\n",
      "82520\n",
      "284.4658478221403968092432455\n"
     ]
    }
   ],
   "source": [
    "analyse_flow(df)"
   ]
  },
  {
   "cell_type": "code",
   "execution_count": 34,
   "id": "a2cd1053-6341-4def-bfc8-086919daca54",
   "metadata": {},
   "outputs": [
    {
     "name": "stdout",
     "output_type": "stream",
     "text": [
      "video_stream dataset/nonvpn_netflix_capture1.pcap 240855\n"
     ]
    }
   ],
   "source": [
    "df = run_for_all(\"dataset/nonvpn_netflix_capture1.pcap\")"
   ]
  },
  {
   "cell_type": "code",
   "execution_count": 35,
   "id": "0d965e3a-b0e0-431d-941e-56cfd5aafc25",
   "metadata": {},
   "outputs": [
    {
     "name": "stdout",
     "output_type": "stream",
     "text": [
      "<bound method NDFrame.head of                label          timestamp     source_ip destination_ip  \\\n",
      "0       video_stream  1561555171.088646    10.122.1.2     10.124.1.2   \n",
      "1       video_stream  1561555171.089023    10.124.1.2     10.122.1.2   \n",
      "2       video_stream  1561555171.091051  10.122.1.103   10.124.1.194   \n",
      "3       video_stream  1561555171.091322  10.124.1.194   10.122.1.103   \n",
      "4       video_stream  1561555171.091661  10.122.1.103   10.124.1.194   \n",
      "...              ...                ...           ...            ...   \n",
      "240850  video_stream  1561556950.080565  10.122.1.103   10.124.1.194   \n",
      "240851  video_stream  1561556950.080592  10.124.1.194   10.122.1.103   \n",
      "240852  video_stream  1561556950.080601  10.124.1.194   10.122.1.103   \n",
      "240853  video_stream  1561556950.080609  10.124.1.194   10.122.1.103   \n",
      "240854  video_stream  1561556950.080631  10.124.1.194   10.122.1.103   \n",
      "\n",
      "        protocol  source_port  destination_port  packet_length  \n",
      "0             17        45509                53             87  \n",
      "1             17           53             45509            103  \n",
      "2              6        54766              3128             60  \n",
      "3              6         3128             54766             60  \n",
      "4              6        54766              3128             52  \n",
      "...          ...          ...               ...            ...  \n",
      "240850         6        55004              3128             52  \n",
      "240851         6         3128             55004           1378  \n",
      "240852         6         3128             55004           1378  \n",
      "240853         6         3128             55004           1378  \n",
      "240854         6         3128             55004           1378  \n",
      "\n",
      "[240855 rows x 8 columns]>\n",
      "1561556950.080631\n",
      "1561555171.088646\n",
      "difference =  1778.991985\n",
      "\n",
      "240855\n",
      "135.3884683184786804983834708\n"
     ]
    }
   ],
   "source": [
    "analyse_flow(df)"
   ]
  },
  {
   "cell_type": "code",
   "execution_count": 36,
   "id": "67b67555-3023-4254-b56f-1f706a446e3d",
   "metadata": {},
   "outputs": [
    {
     "name": "stdout",
     "output_type": "stream",
     "text": [
      "messaging dataset/nonvpn_skype-chat_capture3.pcap 21194\n"
     ]
    }
   ],
   "source": [
    "df = run_for_all(\"dataset/nonvpn_skype-chat_capture3.pcap\")"
   ]
  },
  {
   "cell_type": "code",
   "execution_count": 37,
   "id": "d6b370b2-78c3-42f6-b2b3-65a171cb788d",
   "metadata": {},
   "outputs": [
    {
     "name": "stdout",
     "output_type": "stream",
     "text": [
      "<bound method NDFrame.head of            label          timestamp     source_ip destination_ip  protocol  \\\n",
      "0      messaging  1563463092.850291  10.116.1.162   10.118.1.100         6   \n",
      "1      messaging  1563463095.912290  10.118.1.100   10.116.1.162         6   \n",
      "2      messaging  1563463095.914080  10.116.1.162   10.118.1.100         6   \n",
      "3      messaging  1563463095.969538  10.118.1.100   10.116.1.162         6   \n",
      "4      messaging  1563463097.807768  10.116.1.162   10.118.1.100         6   \n",
      "...          ...                ...           ...            ...       ...   \n",
      "21189  messaging  1563477186.391517  10.116.1.162   10.118.1.100         6   \n",
      "21190  messaging  1563477186.448646  10.118.1.100   10.116.1.162         6   \n",
      "21191  messaging  1563477186.449170  10.116.1.162   10.118.1.100         6   \n",
      "21192  messaging  1563477186.488271  10.118.1.100   10.116.1.162         6   \n",
      "21193  messaging  1563477186.529076  10.116.1.162   10.118.1.100         6   \n",
      "\n",
      "       source_port  destination_port  packet_length  \n",
      "0          58739.0            5061.0             40  \n",
      "1           5061.0           58739.0            275  \n",
      "2          58739.0            5061.0            495  \n",
      "3           5061.0           58739.0             40  \n",
      "4          58739.0            5061.0            205  \n",
      "...            ...               ...            ...  \n",
      "21189      58739.0            5061.0            421  \n",
      "21190       5061.0           58739.0             40  \n",
      "21191      58739.0            5061.0            961  \n",
      "21192       5061.0           58739.0            278  \n",
      "21193      58739.0            5061.0             40  \n",
      "\n",
      "[21194 rows x 8 columns]>\n",
      "1563477186.529076\n",
      "1563463092.850291\n",
      "difference =  14093.678785\n",
      "\n",
      "21194\n",
      "1.503794738287701084426268908\n"
     ]
    }
   ],
   "source": [
    "analyse_flow(df)"
   ]
  },
  {
   "cell_type": "code",
   "execution_count": 38,
   "id": "4048c592-fd40-44d1-95c4-ff5d29514429",
   "metadata": {},
   "outputs": [
    {
     "name": "stdout",
     "output_type": "stream",
     "text": [
      "regular_browsing dataset/regular_browsing1.pcap 82574\n"
     ]
    }
   ],
   "source": [
    "df = run_for_all(\"dataset/regular_browsing1.pcap\")"
   ]
  },
  {
   "cell_type": "code",
   "execution_count": 39,
   "id": "4cf0a99b-124b-41e0-96db-bbb8d7030bee",
   "metadata": {},
   "outputs": [
    {
     "name": "stdout",
     "output_type": "stream",
     "text": [
      "<bound method NDFrame.head of                   label          timestamp       source_ip destination_ip  \\\n",
      "0      regular_browsing  1710712073.207083    192.168.0.24  192.168.0.255   \n",
      "1      regular_browsing  1710712074.232191    192.168.0.24  192.168.0.255   \n",
      "2      regular_browsing  1710712075.254705    192.168.0.24  192.168.0.255   \n",
      "3      regular_browsing  1710712076.176512    192.168.0.24  192.168.0.255   \n",
      "4      regular_browsing  1710712077.200380    192.168.0.24  192.168.0.255   \n",
      "...                 ...                ...             ...            ...   \n",
      "82515  regular_browsing  1710712363.188150   192.168.0.189  54.159.138.33   \n",
      "82516  regular_browsing  1710712363.205631    192.168.0.24  192.168.0.255   \n",
      "82517  regular_browsing  1710712363.206057  100.20.199.161  192.168.0.189   \n",
      "82518  regular_browsing  1710712363.206702  54.184.255.164  192.168.0.189   \n",
      "82519  regular_browsing  1710712363.294630   54.159.138.33  192.168.0.189   \n",
      "\n",
      "       protocol  source_port  destination_port  packet_length  \n",
      "0            17      54915.0           54915.0            291  \n",
      "1            17      54915.0           54915.0            291  \n",
      "2            17      54915.0           54915.0            291  \n",
      "3            17      54915.0           54915.0            291  \n",
      "4            17      54915.0           54915.0            291  \n",
      "...         ...          ...               ...            ...  \n",
      "82515         6      36540.0             443.0             52  \n",
      "82516        17      54915.0           54915.0            291  \n",
      "82517         6        443.0           35328.0             52  \n",
      "82518         6        443.0           50232.0             52  \n",
      "82519         6        443.0           36540.0             52  \n",
      "\n",
      "[82520 rows x 8 columns]>\n",
      "1710712363.294630\n",
      "1710712073.207083\n",
      "difference =  290.087547\n",
      "\n",
      "82520\n",
      "284.4658478221403968092432455\n"
     ]
    }
   ],
   "source": [
    "analyse_flow(df)\n"
   ]
  },
  {
   "cell_type": "code",
   "execution_count": 20,
   "id": "0cf0498a-0ece-4b8f-bec0-62e7325185e5",
   "metadata": {},
   "outputs": [],
   "source": [
    "def aggregate_packets(df):\n",
    "    # Assuming 'df' is your DataFrame\n",
    "    # First, sort the DataFrame by the 'timestamp'\n",
    "    print(df.columns)\n",
    "    print(df.head())\n",
    "    df = df.sort_values(by='timestamp')\n",
    "    df['timestamp'] = df['timestamp'].astype(float)\n",
    "    # Convert timestamps to a datetime format for easier manipulation\n",
    "    df['timestamp'] = pd.to_datetime(df['timestamp'], unit='s')\n",
    "    \n",
    "    # Calculate time differences to find inter-arrival times\n",
    "    df['time_diff'] = df['timestamp'].diff().dt.total_seconds().fillna(0)\n",
    "    \n",
    "    # Group by 0.25 second intervals. Assuming the first timestamp is the start.\n",
    "    df['time_interval'] = (df['timestamp'] - df['timestamp'].min()).dt.total_seconds() // 0.25\n",
    "    \n",
    "    # Group by 'time_interval' and calculate the required attributes\n",
    "    aggregated_data = df.groupby('time_interval').agg(\n",
    "        number_of_packets=('timestamp', 'size'),\n",
    "        average_packet_length=('packet_length', 'mean'),\n",
    "        port=('destination_port', 'first'),  # Assuming 'port' means destination_port here\n",
    "        number_of_unique_dests=('destination_ip', 'nunique'),\n",
    "        TCP_protocol_count=('protocol', lambda x: (x==6).sum()),\n",
    "        UDP_protocol_count=('protocol', lambda x: (x==17).sum()),\n",
    "        #Inter_arrival_time_variance=('time_diff', np.var),\n",
    "        #Packet_length_variance=('packet_length', np.var)\n",
    "        #Inter_arrival_time_variance=('time_diff', lambda x: np.var(x, ddof=1)),\n",
    "        #Packet_length_variance=('packet_length', lambda x: np.var(x, ddof=1))\n",
    "        Packet_length_variance=('packet_length', lambda x: x.var() if len(x) > 1 else 0),\n",
    "        Inter_arrival_time_variance=('time_diff', lambda x: x.var() if len(x) > 1 else 0)\n",
    "    ).reset_index(drop=True)\n",
    "    \n",
    "    return aggregated_data"
   ]
  },
  {
   "cell_type": "code",
   "execution_count": 46,
   "id": "9aab841b-a06a-472b-8660-fb861036972a",
   "metadata": {},
   "outputs": [
    {
     "name": "stdout",
     "output_type": "stream",
     "text": [
      "file_transfer dataset/nonvpn_sftp_capture2.pcap 338865\n"
     ]
    }
   ],
   "source": [
    "df = run_for_all(\"dataset/nonvpn_sftp_capture2.pcap\")"
   ]
  },
  {
   "cell_type": "code",
   "execution_count": 47,
   "id": "c5c019dc-59c8-4457-b001-7c0bf73685b0",
   "metadata": {},
   "outputs": [
    {
     "name": "stdout",
     "output_type": "stream",
     "text": [
      "<bound method NDFrame.head of                 label          timestamp     source_ip destination_ip  \\\n",
      "0       file_transfer  1563285946.421604    10.113.1.2     10.115.1.2   \n",
      "1       file_transfer  1563285946.421654    10.113.1.2     10.115.1.2   \n",
      "2       file_transfer  1563285946.421993    10.115.1.2     10.113.1.2   \n",
      "3       file_transfer  1563285946.422040    10.115.1.2     10.113.1.2   \n",
      "4       file_transfer  1563285946.422849  10.113.1.150   10.115.1.123   \n",
      "...               ...                ...           ...            ...   \n",
      "338860  file_transfer  1563285955.549798    10.115.1.2     10.113.1.2   \n",
      "338861  file_transfer  1563285955.550136    10.113.1.2     10.115.1.2   \n",
      "338862  file_transfer  1563285955.550200    10.113.1.2     10.115.1.2   \n",
      "338863  file_transfer  1563285955.551482  10.115.1.123   10.113.1.150   \n",
      "338864  file_transfer  1563285955.551855  10.113.1.150   10.115.1.123   \n",
      "\n",
      "        protocol  source_port  destination_port  packet_length  \n",
      "0             17        18929                53             83  \n",
      "1             17        42535                53             83  \n",
      "2             17           53             18929             99  \n",
      "3             17           53             42535             83  \n",
      "4              6        45280                22             60  \n",
      "...          ...          ...               ...            ...  \n",
      "338860        17        12956                53             83  \n",
      "338861        17           53              3437             99  \n",
      "338862        17           53             12956             83  \n",
      "338863         6           22             45280             52  \n",
      "338864         6        45280                22             52  \n",
      "\n",
      "[338865 rows x 8 columns]>\n",
      "1563285955.551855\n",
      "1563285946.421604\n",
      "difference =  9.130251\n",
      "\n",
      "338865\n",
      "37114.53277680975035626074245\n"
     ]
    }
   ],
   "source": [
    "analyse_flow(df)"
   ]
  },
  {
   "cell_type": "code",
   "execution_count": 55,
   "id": "691f2cdf-43e3-4450-b604-08057f5854f7",
   "metadata": {},
   "outputs": [],
   "source": [
    "stfp_agg_data = aggregate_packets(df)"
   ]
  },
  {
   "cell_type": "code",
   "execution_count": 56,
   "id": "0b48401b-3fe5-4a39-a636-f1c035a7aac4",
   "metadata": {},
   "outputs": [
    {
     "name": "stdout",
     "output_type": "stream",
     "text": [
      "    number_of_packets  average_packet_length   port  number_of_unique_dests  \\\n",
      "0                  54             163.055556     53                       4   \n",
      "1                5076             917.598109     53                       4   \n",
      "2                7251             915.878362     22                       2   \n",
      "3                7305             908.544011     22                       2   \n",
      "4                7477             905.931523     22                       2   \n",
      "5                7728             900.857660     22                       2   \n",
      "6                9922             914.801653  45280                       2   \n",
      "7               10402             900.618150     22                       2   \n",
      "8                9729             913.475588  45280                       2   \n",
      "9                9412             909.008075     22                       2   \n",
      "10               9609             912.338016  45280                       2   \n",
      "11              10164             908.276466     22                       2   \n",
      "12              10385             909.743091  45280                       2   \n",
      "13              10266             916.216053  45280                       2   \n",
      "14               9918             911.504537  45280                       2   \n",
      "15              10211             911.330722  45280                       2   \n",
      "16              10425             916.268777  45280                       2   \n",
      "17              10559             915.847334  45280                       2   \n",
      "18              10744             907.287416     22                       2   \n",
      "19              10651             920.628110     22                       2   \n",
      "20               9504             916.360690     22                       2   \n",
      "21               9948             911.875553     22                       2   \n",
      "22              10251             914.979026     22                       2   \n",
      "23               9596             907.708837     22                       2   \n",
      "24               9759             912.876114     22                       2   \n",
      "25               9308             908.451869     22                       2   \n",
      "26               8983             906.003785  45280                       2   \n",
      "27               9204             911.355280     22                       2   \n",
      "28               9115             901.051234     22                       2   \n",
      "29               9099             914.116277  45280                       2   \n",
      "30               9067             903.089004  45280                       2   \n",
      "31               9456             917.405880  45280                       2   \n",
      "32              10653             910.102882     22                       2   \n",
      "33              10791             911.339820     22                       2   \n",
      "34              10952             915.458546     22                       2   \n",
      "35              10989             909.173901  45280                       2   \n",
      "36               4902             911.498980     22                       4   \n",
      "\n",
      "    TCP_protocol_count  UDP_protocol_count  Inter_arrival_time_variance  \\\n",
      "0                   26                  28                 2.431584e-04   \n",
      "1                 5060                  16                 4.755642e-07   \n",
      "2                 7251                   0                 2.299292e-09   \n",
      "3                 7305                   0                 2.889170e-09   \n",
      "4                 7477                   0                 2.357723e-09   \n",
      "5                 7728                   0                 2.734892e-09   \n",
      "6                 9922                   0                 2.555652e-09   \n",
      "7                10402                   0                 2.310060e-09   \n",
      "8                 9729                   0                 3.431086e-09   \n",
      "9                 9412                   0                 5.449109e-09   \n",
      "10                9609                   0                 5.416875e-09   \n",
      "11               10164                   0                 5.001929e-09   \n",
      "12               10385                   0                 4.622762e-09   \n",
      "13               10266                   0                 4.736556e-09   \n",
      "14                9918                   0                 5.117049e-09   \n",
      "15               10211                   0                 5.935025e-09   \n",
      "16               10425                   0                 5.075714e-09   \n",
      "17               10559                   0                 4.690514e-09   \n",
      "18               10744                   0                 4.716701e-09   \n",
      "19               10651                   0                 4.222483e-09   \n",
      "20                9504                   0                 5.972041e-09   \n",
      "21                9948                   0                 4.832736e-09   \n",
      "22               10251                   0                 3.597837e-09   \n",
      "23                9596                   0                 4.147078e-09   \n",
      "24                9759                   0                 3.660705e-09   \n",
      "25                9308                   0                 5.286737e-09   \n",
      "26                8983                   0                 4.719997e-09   \n",
      "27                9204                   0                 5.253950e-09   \n",
      "28                9115                   0                 4.566429e-09   \n",
      "29                9099                   0                 5.640403e-09   \n",
      "30                9067                   0                 5.154383e-09   \n",
      "31                9456                   0                 5.145439e-09   \n",
      "32               10653                   0                 3.586864e-09   \n",
      "33               10791                   0                 3.829262e-09   \n",
      "34               10952                   0                 3.608313e-09   \n",
      "35               10989                   0                 2.989887e-09   \n",
      "36                4886                  16                 1.544197e-08   \n",
      "\n",
      "    Packet_length_variance  \n",
      "0             68607.411950  \n",
      "1            394145.276087  \n",
      "2            396740.845340  \n",
      "3            399469.236870  \n",
      "4            400448.698360  \n",
      "5            402209.408493  \n",
      "6            397151.086751  \n",
      "7            402228.097038  \n",
      "8            397683.254158  \n",
      "9            399287.487768  \n",
      "10           398138.042269  \n",
      "11           399530.872688  \n",
      "12           398988.994084  \n",
      "13           396538.268368  \n",
      "14           398329.052868  \n",
      "15           398378.291690  \n",
      "16           396550.400123  \n",
      "17           396598.080120  \n",
      "18           399817.050773  \n",
      "19           394780.829478  \n",
      "20           396377.242929  \n",
      "21           398150.225187  \n",
      "22           396918.429511  \n",
      "23           399747.687597  \n",
      "24           397915.020416  \n",
      "25           399495.936332  \n",
      "26           400240.443985  \n",
      "27           398523.552128  \n",
      "28           402156.551577  \n",
      "29           397421.603977  \n",
      "30           401341.016895  \n",
      "31           396094.715836  \n",
      "32           398875.007064  \n",
      "33           398366.753001  \n",
      "34           396874.602975  \n",
      "35           399203.723396  \n",
      "36           399190.634053  \n"
     ]
    }
   ],
   "source": [
    "print(stfp_agg_data)"
   ]
  },
  {
   "cell_type": "code",
   "execution_count": 5,
   "id": "5d9ab60e-e518-404b-a4bc-b4226289ee7f",
   "metadata": {},
   "outputs": [
    {
     "name": "stdout",
     "output_type": "stream",
     "text": [
      "messaging dataset/nonvpn_skype-chat_capture3.pcap 21194\n",
      "       label          timestamp     source_ip destination_ip  protocol  \\\n",
      "0  messaging  1563463092.850291  10.116.1.162   10.118.1.100         6   \n",
      "1  messaging  1563463095.912290  10.118.1.100   10.116.1.162         6   \n",
      "2  messaging  1563463095.914080  10.116.1.162   10.118.1.100         6   \n",
      "3  messaging  1563463095.969538  10.118.1.100   10.116.1.162         6   \n",
      "4  messaging  1563463097.807768  10.116.1.162   10.118.1.100         6   \n",
      "\n",
      "   source_port  destination_port  packet_length  \n",
      "0      58739.0            5061.0             40  \n",
      "1       5061.0           58739.0            275  \n",
      "2      58739.0            5061.0            495  \n",
      "3       5061.0           58739.0             40  \n",
      "4      58739.0            5061.0            205  \n",
      "Index(['label', 'timestamp', 'source_ip', 'destination_ip', 'protocol',\n",
      "       'source_port', 'destination_port', 'packet_length'],\n",
      "      dtype='object')\n"
     ]
    }
   ],
   "source": [
    "messaging_df = run_for_all(\"dataset/nonvpn_skype-chat_capture3.pcap\")\n",
    "print(messaging_df.head())\n",
    "print(messaging_df.columns)"
   ]
  },
  {
   "cell_type": "code",
   "execution_count": null,
   "id": "a92ad72d-cc3a-47b3-9e1d-e111707eec7c",
   "metadata": {},
   "outputs": [],
   "source": []
  },
  {
   "cell_type": "code",
   "execution_count": 21,
   "id": "c50a4650-71dd-4b83-8734-62f2dfa80c59",
   "metadata": {},
   "outputs": [
    {
     "name": "stdout",
     "output_type": "stream",
     "text": [
      "Index(['label', 'timestamp', 'source_ip', 'destination_ip', 'protocol',\n",
      "       'source_port', 'destination_port', 'packet_length'],\n",
      "      dtype='object')\n",
      "       label          timestamp     source_ip destination_ip  protocol  \\\n",
      "0  messaging  1563463092.850291  10.116.1.162   10.118.1.100         6   \n",
      "1  messaging  1563463095.912290  10.118.1.100   10.116.1.162         6   \n",
      "2  messaging  1563463095.914080  10.116.1.162   10.118.1.100         6   \n",
      "3  messaging  1563463095.969538  10.118.1.100   10.116.1.162         6   \n",
      "4  messaging  1563463097.807768  10.116.1.162   10.118.1.100         6   \n",
      "\n",
      "   source_port  destination_port  packet_length  \n",
      "0      58739.0            5061.0             40  \n",
      "1       5061.0           58739.0            275  \n",
      "2      58739.0            5061.0            495  \n",
      "3       5061.0           58739.0             40  \n",
      "4      58739.0            5061.0            205  \n"
     ]
    }
   ],
   "source": [
    "messaging_agg_data = aggregate_packets(messaging_df)"
   ]
  },
  {
   "cell_type": "code",
   "execution_count": 22,
   "id": "bb6cb5e8-8d00-46f4-81c5-269a4463ff7c",
   "metadata": {},
   "outputs": [
    {
     "name": "stdout",
     "output_type": "stream",
     "text": [
      "      number_of_packets  average_packet_length     port  \\\n",
      "0                     1              40.000000   5061.0   \n",
      "1                     3             270.000000  58739.0   \n",
      "2                     2             204.500000   5061.0   \n",
      "3                     1              40.000000   5061.0   \n",
      "4                     3             194.333333  58739.0   \n",
      "...                 ...                    ...      ...   \n",
      "7254                  7             628.285714   5061.0   \n",
      "7255                  1             466.000000   5061.0   \n",
      "7256                  6             682.500000  58739.0   \n",
      "7257                  2             554.000000  58739.0   \n",
      "7258                  8             445.750000  58739.0   \n",
      "\n",
      "      number_of_unique_dests  TCP_protocol_count  UDP_protocol_count  \\\n",
      "0                          1                   1                   0   \n",
      "1                          2                   3                   0   \n",
      "2                          2                   2                   0   \n",
      "3                          1                   1                   0   \n",
      "4                          2                   3                   0   \n",
      "...                      ...                 ...                 ...   \n",
      "7254                       2                   7                   0   \n",
      "7255                       1                   1                   0   \n",
      "7256                       2                   6                   0   \n",
      "7257                       2                   2                   0   \n",
      "7258                       2                   8                   0   \n",
      "\n",
      "      Packet_length_variance  Inter_arrival_time_variance  \n",
      "0                   0.000000                     0.000000  \n",
      "1               51775.000000                     3.067842  \n",
      "2                   0.500000                     1.685072  \n",
      "3                   0.000000                     0.000000  \n",
      "4               17866.333333                     3.080538  \n",
      "...                      ...                          ...  \n",
      "7254           343655.238095                     3.830633  \n",
      "7255                0.000000                     0.000000  \n",
      "7256           359974.300000                     0.000133  \n",
      "7257           528392.000000                    60.724796  \n",
      "7258           236949.928571                     0.575242  \n",
      "\n",
      "[7259 rows x 8 columns]\n"
     ]
    }
   ],
   "source": [
    "print(messaging_agg_data)"
   ]
  },
  {
   "cell_type": "code",
   "execution_count": 23,
   "id": "b124090e-355c-443e-8b1c-8b1642d5b19b",
   "metadata": {},
   "outputs": [
    {
     "name": "stdout",
     "output_type": "stream",
     "text": [
      "Number of NaN in Packet_length_variance: 0\n",
      "Number of NaN in Inter_arrival_time_variance: 0\n"
     ]
    }
   ],
   "source": [
    "nan_packet_length_variance = messaging_agg_data['Packet_length_variance'].isna().sum()\n",
    "nan_interarrival_time_variance = messaging_agg_data['Inter_arrival_time_variance'].isna().sum()\n",
    "\n",
    "print(\"Number of NaN in Packet_length_variance:\", nan_packet_length_variance)\n",
    "print(\"Number of NaN in Inter_arrival_time_variance:\", nan_interarrival_time_variance)"
   ]
  },
  {
   "cell_type": "code",
   "execution_count": 24,
   "id": "37e34239-a915-419d-bdd7-a26506a4591c",
   "metadata": {},
   "outputs": [
    {
     "name": "stdout",
     "output_type": "stream",
     "text": [
      "Number of NaN in 'packet_length' column: 0\n",
      "Number of NaN in 'timestamp' column: 0\n",
      "total rows =  21194\n"
     ]
    }
   ],
   "source": [
    "nan_packet_length = messaging_df['packet_length'].isna().sum()\n",
    "nan_timestamp = messaging_df['timestamp'].isna().sum()\n",
    "\n",
    "print(\"Number of NaN in 'packet_length' column:\", nan_packet_length)\n",
    "print(\"Number of NaN in 'timestamp' column:\", nan_timestamp)\n",
    "print(\"total rows = \", len(messaging_df))"
   ]
  },
  {
   "cell_type": "code",
   "execution_count": 31,
   "id": "76cb3068-ba52-4a2e-b839-f4d8153f9eca",
   "metadata": {},
   "outputs": [],
   "source": [
    "data = pd.read_csv('agg_flow_data.csv')\n",
    "data = data.sample(frac=1, random_state=42).reset_index(drop=True)"
   ]
  },
  {
   "cell_type": "code",
   "execution_count": 32,
   "id": "f55e6f7a-7174-4fa3-a8a2-49a0252933c6",
   "metadata": {},
   "outputs": [
    {
     "data": {
      "text/plain": [
       "Index(['number_of_packets', 'average_packet_length', 'number_of_unique_dests',\n",
       "       'TCP_protocol_count', 'UDP_protocol_count', 'Packet_length_variance',\n",
       "       'Inter_arrival_time_variance', 'label'],\n",
       "      dtype='object')"
      ]
     },
     "execution_count": 32,
     "metadata": {},
     "output_type": "execute_result"
    }
   ],
   "source": [
    "data.columns"
   ]
  },
  {
   "cell_type": "code",
   "execution_count": 34,
   "id": "c7f142a6-8428-49a2-bfe0-9c13f49df0bb",
   "metadata": {},
   "outputs": [
    {
     "name": "stdout",
     "output_type": "stream",
     "text": [
      "label\n",
      "file_transfer       1241.254545\n",
      "messaging              2.917121\n",
      "regular_browsing      43.604619\n",
      "video_stream         271.257358\n",
      "Name: number_of_packets, dtype: float64\n"
     ]
    }
   ],
   "source": [
    "average_packet_length = data.groupby('label')['number_of_packets'].mean()\n",
    "print(average_packet_length)"
   ]
  },
  {
   "cell_type": "code",
   "execution_count": null,
   "id": "acef55aa-106f-4dc8-9745-1909638152db",
   "metadata": {},
   "outputs": [],
   "source": []
  }
 ],
 "metadata": {
  "kernelspec": {
   "display_name": "Python 3 (ipykernel)",
   "language": "python",
   "name": "python3"
  },
  "language_info": {
   "codemirror_mode": {
    "name": "ipython",
    "version": 3
   },
   "file_extension": ".py",
   "mimetype": "text/x-python",
   "name": "python",
   "nbconvert_exporter": "python",
   "pygments_lexer": "ipython3",
   "version": "3.9.6"
  }
 },
 "nbformat": 4,
 "nbformat_minor": 5
}
