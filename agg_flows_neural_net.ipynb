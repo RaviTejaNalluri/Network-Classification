{
 "cells": [
  {
   "cell_type": "code",
   "execution_count": 84,
   "id": "cadb7325-b11b-484b-8695-283213a727f6",
   "metadata": {},
   "outputs": [],
   "source": [
    "import numpy as np\n",
    "import pandas as pd\n",
    "from sklearn.model_selection import train_test_split, KFold, cross_val_score\n",
    "from sklearn.preprocessing import StandardScaler, LabelEncoder\n",
    "from sklearn.ensemble import RandomForestClassifier, VotingClassifier\n",
    "from sklearn.linear_model import LogisticRegression\n",
    "from sklearn.neighbors import KNeighborsClassifier\n",
    "from sklearn.svm import SVC\n",
    "from sklearn.metrics import accuracy_score\n",
    "from sklearn.impute import SimpleImputer\n",
    "from sklearn.model_selection import train_test_split\n",
    "from sklearn.preprocessing import StandardScaler\n",
    "from tensorflow.keras.utils import to_categorical\n",
    "from tensorflow.keras.models import Sequential\n",
    "from tensorflow.keras.layers import Dense, Dropout"
   ]
  },
  {
   "cell_type": "code",
   "execution_count": 85,
   "id": "cff7ce8c-a6bb-4382-a5a9-872e2e7e3652",
   "metadata": {},
   "outputs": [],
   "source": [
    "data = pd.read_csv('agg_flow_data.csv')\n",
    "data = data.sample(frac=1, random_state=42).reset_index(drop=True)"
   ]
  },
  {
   "cell_type": "code",
   "execution_count": 86,
   "id": "35340beb-782a-4e37-858c-dae6485a49e6",
   "metadata": {},
   "outputs": [
    {
     "name": "stdout",
     "output_type": "stream",
     "text": [
      "label\n",
      "messaging           39769\n",
      "regular_browsing     2901\n",
      "video_stream         1325\n",
      "file_transfer         275\n",
      "Name: count, dtype: int64\n"
     ]
    }
   ],
   "source": [
    "label_counts = data['label'].value_counts()\n",
    "print(label_counts)"
   ]
  },
  {
   "cell_type": "code",
   "execution_count": 87,
   "id": "2b9b344c-4707-44ff-bf13-d38c11f5d520",
   "metadata": {},
   "outputs": [
    {
     "data": {
      "text/html": [
       "<div>\n",
       "<style scoped>\n",
       "    .dataframe tbody tr th:only-of-type {\n",
       "        vertical-align: middle;\n",
       "    }\n",
       "\n",
       "    .dataframe tbody tr th {\n",
       "        vertical-align: top;\n",
       "    }\n",
       "\n",
       "    .dataframe thead th {\n",
       "        text-align: right;\n",
       "    }\n",
       "</style>\n",
       "<table border=\"1\" class=\"dataframe\">\n",
       "  <thead>\n",
       "    <tr style=\"text-align: right;\">\n",
       "      <th></th>\n",
       "      <th>number_of_packets</th>\n",
       "      <th>average_packet_length</th>\n",
       "      <th>number_of_unique_dests</th>\n",
       "      <th>TCP_protocol_count</th>\n",
       "      <th>UDP_protocol_count</th>\n",
       "      <th>Packet_length_variance</th>\n",
       "      <th>Inter_arrival_time_variance</th>\n",
       "      <th>label</th>\n",
       "    </tr>\n",
       "  </thead>\n",
       "  <tbody>\n",
       "    <tr>\n",
       "      <th>0</th>\n",
       "      <td>3</td>\n",
       "      <td>143.00</td>\n",
       "      <td>2</td>\n",
       "      <td>3</td>\n",
       "      <td>0</td>\n",
       "      <td>7959.00</td>\n",
       "      <td>0.27</td>\n",
       "      <td>messaging</td>\n",
       "    </tr>\n",
       "    <tr>\n",
       "      <th>1</th>\n",
       "      <td>3</td>\n",
       "      <td>176.67</td>\n",
       "      <td>2</td>\n",
       "      <td>3</td>\n",
       "      <td>0</td>\n",
       "      <td>16124.33</td>\n",
       "      <td>0.73</td>\n",
       "      <td>messaging</td>\n",
       "    </tr>\n",
       "    <tr>\n",
       "      <th>2</th>\n",
       "      <td>1</td>\n",
       "      <td>40.00</td>\n",
       "      <td>1</td>\n",
       "      <td>1</td>\n",
       "      <td>0</td>\n",
       "      <td>0.00</td>\n",
       "      <td>0.00</td>\n",
       "      <td>messaging</td>\n",
       "    </tr>\n",
       "    <tr>\n",
       "      <th>3</th>\n",
       "      <td>2</td>\n",
       "      <td>198.00</td>\n",
       "      <td>2</td>\n",
       "      <td>2</td>\n",
       "      <td>0</td>\n",
       "      <td>2.00</td>\n",
       "      <td>5.56</td>\n",
       "      <td>messaging</td>\n",
       "    </tr>\n",
       "    <tr>\n",
       "      <th>4</th>\n",
       "      <td>4</td>\n",
       "      <td>346.50</td>\n",
       "      <td>2</td>\n",
       "      <td>4</td>\n",
       "      <td>0</td>\n",
       "      <td>24464.33</td>\n",
       "      <td>0.20</td>\n",
       "      <td>messaging</td>\n",
       "    </tr>\n",
       "  </tbody>\n",
       "</table>\n",
       "</div>"
      ],
      "text/plain": [
       "   number_of_packets  average_packet_length  number_of_unique_dests  \\\n",
       "0                  3                 143.00                       2   \n",
       "1                  3                 176.67                       2   \n",
       "2                  1                  40.00                       1   \n",
       "3                  2                 198.00                       2   \n",
       "4                  4                 346.50                       2   \n",
       "\n",
       "   TCP_protocol_count  UDP_protocol_count  Packet_length_variance  \\\n",
       "0                   3                   0                 7959.00   \n",
       "1                   3                   0                16124.33   \n",
       "2                   1                   0                    0.00   \n",
       "3                   2                   0                    2.00   \n",
       "4                   4                   0                24464.33   \n",
       "\n",
       "   Inter_arrival_time_variance      label  \n",
       "0                         0.27  messaging  \n",
       "1                         0.73  messaging  \n",
       "2                         0.00  messaging  \n",
       "3                         5.56  messaging  \n",
       "4                         0.20  messaging  "
      ]
     },
     "execution_count": 87,
     "metadata": {},
     "output_type": "execute_result"
    }
   ],
   "source": [
    "data.head(5)"
   ]
  },
  {
   "cell_type": "code",
   "execution_count": 88,
   "id": "a5121c32-85c0-45c7-bb62-5d6faac04eee",
   "metadata": {},
   "outputs": [
    {
     "name": "stdout",
     "output_type": "stream",
     "text": [
      "label\n",
      "messaging           39769\n",
      "regular_browsing     2901\n",
      "video_stream         1325\n",
      "file_transfer         275\n",
      "Name: count, dtype: int64\n"
     ]
    }
   ],
   "source": [
    "label_counts = data['label'].value_counts()\n",
    "print(label_counts)"
   ]
  },
  {
   "cell_type": "code",
   "execution_count": 89,
   "id": "1a0cf0bf-149b-4826-9010-2c4c9763debe",
   "metadata": {},
   "outputs": [],
   "source": [
    "X = data.iloc[:, :-1].values\n",
    "y = data.iloc[:, -1].values"
   ]
  },
  {
   "cell_type": "code",
   "execution_count": 106,
   "id": "2fb3df1c-1799-4bf2-afcb-3e4470ece35e",
   "metadata": {},
   "outputs": [],
   "source": [
    "X_train, X_test, y_train, y_test = train_test_split(X, y, test_size=0.2, random_state=42)\n"
   ]
  },
  {
   "cell_type": "code",
   "execution_count": 107,
   "id": "cef8677d-24c6-4130-863d-bffc36eb3435",
   "metadata": {},
   "outputs": [],
   "source": [
    "label_encoder = LabelEncoder()\n",
    "y_train_encoded = label_encoder.fit_transform(y_train)"
   ]
  },
  {
   "cell_type": "code",
   "execution_count": 108,
   "id": "d96bc04d-cf43-45ba-bd9a-9c3597d69360",
   "metadata": {},
   "outputs": [],
   "source": [
    "y_train_encoded = to_categorical(y_train_encoded)"
   ]
  },
  {
   "cell_type": "code",
   "execution_count": 109,
   "id": "d8108bc7-6e19-469f-8ff3-2784d342f64c",
   "metadata": {},
   "outputs": [],
   "source": [
    "scaler = StandardScaler().fit(X_train)\n",
    "X_train_scaled = scaler.transform(X_train)\n",
    "X_test_scaled = scaler.transform(X_test)"
   ]
  },
  {
   "cell_type": "code",
   "execution_count": 110,
   "id": "458b9d70-e8a8-4f71-8500-89c3a146a1a5",
   "metadata": {},
   "outputs": [],
   "source": [
    "model = Sequential([\n",
    "    Dense(64, activation='relu', input_shape=(X_train_scaled.shape[1],)),\n",
    "    Dropout(0.5),\n",
    "    Dense(64, activation='relu'),\n",
    "    Dropout(0.5),\n",
    "    Dense(y_train_encoded.shape[1], activation='softmax')  # Output layer with softmax activation for multi-class classification\n",
    "])"
   ]
  },
  {
   "cell_type": "code",
   "execution_count": 111,
   "id": "b81cb675-6075-4443-ad33-4d5bfba361af",
   "metadata": {},
   "outputs": [],
   "source": [
    "model.compile(optimizer='adam', loss='categorical_crossentropy', metrics=['accuracy'])"
   ]
  },
  {
   "cell_type": "code",
   "execution_count": 112,
   "id": "e6b496de-91be-4a6f-a155-6eb68b96a1a5",
   "metadata": {},
   "outputs": [
    {
     "name": "stdout",
     "output_type": "stream",
     "text": [
      "Epoch 1/10\n",
      "12/12 [==============================] - 1s 6ms/step - loss: 1.4347 - accuracy: 0.3116 - val_loss: 1.4135 - val_accuracy: 0.8764\n",
      "Epoch 2/10\n",
      "12/12 [==============================] - 0s 2ms/step - loss: 1.2555 - accuracy: 0.8159 - val_loss: 1.2788 - val_accuracy: 0.8764\n",
      "Epoch 3/10\n",
      "12/12 [==============================] - 0s 2ms/step - loss: 1.1563 - accuracy: 0.8810 - val_loss: 1.1316 - val_accuracy: 0.8652\n",
      "Epoch 4/10\n",
      "12/12 [==============================] - 0s 2ms/step - loss: 0.9985 - accuracy: 0.8952 - val_loss: 0.9417 - val_accuracy: 0.8652\n",
      "Epoch 5/10\n",
      "12/12 [==============================] - 0s 2ms/step - loss: 0.8080 - accuracy: 0.9037 - val_loss: 0.7714 - val_accuracy: 0.8764\n",
      "Epoch 6/10\n",
      "12/12 [==============================] - 0s 2ms/step - loss: 0.7321 - accuracy: 0.8980 - val_loss: 0.5984 - val_accuracy: 0.8989\n",
      "Epoch 7/10\n",
      "12/12 [==============================] - 0s 2ms/step - loss: 0.5901 - accuracy: 0.8952 - val_loss: 0.4684 - val_accuracy: 0.9101\n",
      "Epoch 8/10\n",
      "12/12 [==============================] - 0s 2ms/step - loss: 0.5236 - accuracy: 0.8980 - val_loss: 0.3733 - val_accuracy: 0.9101\n",
      "Epoch 9/10\n",
      "12/12 [==============================] - 0s 2ms/step - loss: 0.4356 - accuracy: 0.9235 - val_loss: 0.3163 - val_accuracy: 0.9213\n",
      "Epoch 10/10\n",
      "12/12 [==============================] - 0s 2ms/step - loss: 0.3684 - accuracy: 0.9093 - val_loss: 0.2868 - val_accuracy: 0.9438\n"
     ]
    },
    {
     "data": {
      "text/plain": [
       "<keras.src.callbacks.History at 0x16a486970>"
      ]
     },
     "execution_count": 112,
     "metadata": {},
     "output_type": "execute_result"
    }
   ],
   "source": [
    "model.fit(X_train_scaled, y_train_encoded, epochs=10, batch_size=32, validation_split=0.2)"
   ]
  },
  {
   "cell_type": "code",
   "execution_count": 105,
   "id": "8e6e54a5-884d-4849-94e7-46fe16cdead4",
   "metadata": {},
   "outputs": [
    {
     "name": "stdout",
     "output_type": "stream",
     "text": [
      "1370/1370 [==============================] - 1s 361us/step - loss: 0.3247 - accuracy: 0.9356\n",
      "Test Accuracy: 0.9355891346931458\n"
     ]
    }
   ],
   "source": [
    "loss, accuracy = model.evaluate(X_test_scaled, to_categorical(label_encoder.transform(y_test)))\n",
    "print(f'Test Accuracy: {accuracy}')"
   ]
  },
  {
   "cell_type": "code",
   "execution_count": null,
   "id": "8385ebad-2350-43d4-8581-95b7fcca3a45",
   "metadata": {},
   "outputs": [],
   "source": []
  }
 ],
 "metadata": {
  "kernelspec": {
   "display_name": "Python 3 (ipykernel)",
   "language": "python",
   "name": "python3"
  },
  "language_info": {
   "codemirror_mode": {
    "name": "ipython",
    "version": 3
   },
   "file_extension": ".py",
   "mimetype": "text/x-python",
   "name": "python",
   "nbconvert_exporter": "python",
   "pygments_lexer": "ipython3",
   "version": "3.9.6"
  }
 },
 "nbformat": 4,
 "nbformat_minor": 5
}
