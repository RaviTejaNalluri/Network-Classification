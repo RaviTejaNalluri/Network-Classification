{
 "cells": [
  {
   "cell_type": "code",
   "execution_count": 1,
   "id": "3c078483-95a3-460f-a1af-bbee07284bd9",
   "metadata": {},
   "outputs": [
    {
     "name": "stderr",
     "output_type": "stream",
     "text": [
      "WARNING: No IPv4 address found on anpi0 !\n",
      "WARNING: No IPv4 address found on anpi2 !\n",
      "WARNING: more No IPv4 address found on anpi1 !\n"
     ]
    }
   ],
   "source": [
    "from scapy.all import *\n",
    "import csv\n",
    "import os\n",
    "import pandas as pd\n",
    "import numpy as np"
   ]
  },
  {
   "cell_type": "code",
   "execution_count": 2,
   "id": "9d71967d-e7fc-4047-a19a-c178e9a1fa6e",
   "metadata": {},
   "outputs": [],
   "source": [
    "output_csv_file = 'agg_flow_data.csv'"
   ]
  },
  {
   "cell_type": "code",
   "execution_count": 3,
   "id": "ecac50da-2a0e-4d82-b279-9f244b73a835",
   "metadata": {},
   "outputs": [
    {
     "name": "stdout",
     "output_type": "stream",
     "text": [
      "agg_flow_data.csv does not exist.\n",
      "dataset/nonvpn_skype-chat_capture18.pcap\n",
      "dataset/nonvpn_skype-chat_capture6.pcap\n",
      "dataset/regular_browsing.pcap\n",
      "dataset/nonvpn_skype-chat_capture14.pcap\n",
      "dataset/nonvpn_skype-chat_capture39.pcap\n",
      "dataset/nonvpn_skype-chat_capture15.pcap\n",
      "dataset/nonvpn_skype-chat_capture7.pcap\n",
      "dataset/nonvpn_skype-chat_capture19.pcap\n",
      "dataset/nonvpn_skype-chat_capture12.pcap\n",
      "dataset/nonvpn_netflix_capture1.pcap\n",
      "dataset/regular_browsing1.pcap\n",
      "dataset/nonvpn_skype-chat_capture1.pcap\n",
      "dataset/nonvpn_skype-chat_capture13.pcap\n",
      "dataset/nonvpn_skype-chat_capture10.pcap\n",
      "dataset/regular_browsing2.pcap\n",
      "dataset/nonvpn_skype-chat_capture2.pcap\n",
      "dataset/nonvpn_skype-chat_capture3.pcap\n",
      "dataset/nonvpn_skype-chat_capture11.pcap\n",
      "dataset/vpn_youtube_capture1.pcap\n",
      "dataset/nonvpn_skype-chat_capture16.pcap\n",
      "dataset/nonvpn_skype-chat_capture8.pcap\n",
      "dataset/nonvpn_skype-chat_capture9.pcap\n",
      "dataset/nonvpn_sftp_capture2.pcap\n",
      "dataset/nonvpn_skype-chat_capture5.pcap\n",
      "dataset/vpn_skype-chat_capture6.pcap\n",
      "dataset/nonvpn_sftp_newcapture2.pcap\n"
     ]
    }
   ],
   "source": [
    "dataset_path = 'dataset'\n",
    "try:\n",
    "    os.remove(output_csv_file)\n",
    "    print(f\"{output_csv_file} has been successfully deleted.\")\n",
    "except FileNotFoundError:\n",
    "    print(f\"{output_csv_file} does not exist.\")\n",
    "\n",
    "for filename in os.listdir(dataset_path):\n",
    "    if 'pcap' in filename:\n",
    "        pcap_file = os.path.join(dataset_path, filename)\n",
    "        # print(pcap_file)\n",
    "        print(pcap_file)"
   ]
  },
  {
   "cell_type": "code",
   "execution_count": 17,
   "id": "6eec3c94-dc90-4e27-a62c-192cb4dd5bb2",
   "metadata": {},
   "outputs": [],
   "source": [
    "def get_packet_details(pcap_file):\n",
    "    packets=rdpcap(pcap_file)\n",
    "    if 'netflix' in pcap_file or 'youtube' in pcap_file:\n",
    "        label = 'video_stream'\n",
    "    elif 'skype' in pcap_file:\n",
    "        label = 'messaging'\n",
    "    elif 'sftp' in pcap_file:\n",
    "        label = 'file_transfer'\n",
    "    elif 'regular_browsing' in pcap_file:\n",
    "        label = 'regular_browsing'\n",
    "    else:\n",
    "        print(pcap_file)\n",
    "        \n",
    "    print(label,pcap_file, len(packets))\n",
    "\n",
    "    packet_list = []\n",
    "    \n",
    "    for packet in packets:\n",
    "        if IP in packet:\n",
    "            packet_info = {\n",
    "                'label': label,\n",
    "                'timestamp': packet.time,\n",
    "                'source_ip': packet[IP].src,\n",
    "                'destination_ip': packet[IP].dst,\n",
    "                'protocol': packet[IP].proto,\n",
    "                'source_port': packet[IP].sport if TCP in packet or UDP in packet else None,\n",
    "                'destination_port': packet[IP].dport if TCP in packet or UDP in packet else None,\n",
    "                'packet_length': packet[IP].len,\n",
    "                'label' : label\n",
    "            }\n",
    "            packet_list.append(packet_info)\n",
    "    \n",
    "    df = pd.DataFrame(packet_list)\n",
    "    df = df.sort_values(by='timestamp')\n",
    "    df['timestamp'] = df['timestamp'].astype(float)\n",
    "    # Convert timestamps to a datetime format for easier manipulation\n",
    "    df['timestamp'] = pd.to_datetime(df['timestamp'], unit='s')\n",
    "    \n",
    "    # Calculate time differences to find inter-arrival times\n",
    "    df['time_diff'] = df['timestamp'].diff().dt.total_seconds().fillna(0)\n",
    "    \n",
    "    # Group by 0.25 second intervals. Assuming the first timestamp is the start.\n",
    "    df['time_interval'] = (df['timestamp'] - df['timestamp'].min()).dt.total_seconds() // 0.25\n",
    "    \n",
    "    # Group by 'time_interval' and calculate the required attributes\n",
    "    aggregated_data = df.groupby('time_interval').agg(\n",
    "        number_of_packets=('timestamp', 'size'),\n",
    "        average_packet_length=('packet_length', lambda x: round(x.mean(), 2)),\n",
    "        number_of_unique_dests=('destination_ip', 'nunique'),\n",
    "        TCP_protocol_count=('protocol', lambda x: (x==6).sum()),\n",
    "        UDP_protocol_count=('protocol', lambda x: (x==17).sum()),\n",
    "        #Inter_arrival_time_variance=('time_diff', np.var),\n",
    "        #Packet_length_variance=('packet_length', np.var)\n",
    "        #Inter_arrival_time_variance=('time_diff', lambda x: np.var(x, ddof=1)),\n",
    "        #Packet_length_variance=('packet_length', lambda x: np.var(x, ddof=1))\n",
    "        Packet_length_variance=('packet_length', lambda x: round(x.var() if len(x) > 1 else 0, 2)),\n",
    "        Inter_arrival_time_variance=('time_diff', lambda x: round(x.var() if len(x) > 1 else 0, 2)),\n",
    "        label = ('label','first')\n",
    "    ).reset_index(drop=True)\n",
    "    \n",
    "    return aggregated_data\n",
    "    "
   ]
  },
  {
   "cell_type": "code",
   "execution_count": 21,
   "id": "ab3741f4-2644-449c-bef2-d3589f0e253c",
   "metadata": {},
   "outputs": [
    {
     "name": "stdout",
     "output_type": "stream",
     "text": [
      "agg_flow_data.csv does not exist.\n",
      "dataset/nonvpn_skype-chat_capture18.pcap\n",
      "messaging dataset/nonvpn_skype-chat_capture18.pcap 5540\n",
      "dataset/nonvpn_skype-chat_capture6.pcap\n",
      "messaging dataset/nonvpn_skype-chat_capture6.pcap 5728\n",
      "dataset/nonvpn_skype-chat_capture14.pcap\n",
      "messaging dataset/nonvpn_skype-chat_capture14.pcap 5672\n",
      "dataset/nonvpn_skype-chat_capture39.pcap\n",
      "messaging dataset/nonvpn_skype-chat_capture39.pcap 5969\n",
      "dataset/nonvpn_skype-chat_capture15.pcap\n",
      "messaging dataset/nonvpn_skype-chat_capture15.pcap 5490\n",
      "dataset/nonvpn_skype-chat_capture7.pcap\n",
      "messaging dataset/nonvpn_skype-chat_capture7.pcap 5476\n",
      "dataset/nonvpn_skype-chat_capture19.pcap\n",
      "messaging dataset/nonvpn_skype-chat_capture19.pcap 5780\n",
      "dataset/nonvpn_skype-chat_capture12.pcap\n",
      "messaging dataset/nonvpn_skype-chat_capture12.pcap 5921\n",
      "dataset/nonvpn_netflix_capture1.pcap\n",
      "video_stream dataset/nonvpn_netflix_capture1.pcap 240855\n",
      "dataset/regular_browsing1.pcap\n",
      "regular_browsing dataset/regular_browsing1.pcap 82574\n",
      "dataset/nonvpn_skype-chat_capture1.pcap\n",
      "messaging dataset/nonvpn_skype-chat_capture1.pcap 177\n",
      "dataset/nonvpn_skype-chat_capture13.pcap\n",
      "messaging dataset/nonvpn_skype-chat_capture13.pcap 5359\n",
      "dataset/nonvpn_skype-chat_capture10.pcap\n",
      "messaging dataset/nonvpn_skype-chat_capture10.pcap 5451\n",
      "dataset/regular_browsing2.pcap\n",
      "regular_browsing dataset/regular_browsing2.pcap 44036\n",
      "dataset/nonvpn_skype-chat_capture2.pcap\n",
      "messaging dataset/nonvpn_skype-chat_capture2.pcap 466\n",
      "dataset/nonvpn_skype-chat_capture3.pcap\n",
      "messaging dataset/nonvpn_skype-chat_capture3.pcap 21194\n",
      "dataset/nonvpn_skype-chat_capture11.pcap\n",
      "messaging dataset/nonvpn_skype-chat_capture11.pcap 5859\n",
      "dataset/vpn_youtube_capture1.pcap\n",
      "video_stream dataset/vpn_youtube_capture1.pcap 119639\n",
      "dataset/nonvpn_skype-chat_capture16.pcap\n",
      "messaging dataset/nonvpn_skype-chat_capture16.pcap 5620\n",
      "dataset/nonvpn_skype-chat_capture8.pcap\n",
      "messaging dataset/nonvpn_skype-chat_capture8.pcap 5642\n",
      "dataset/nonvpn_skype-chat_capture9.pcap\n",
      "messaging dataset/nonvpn_skype-chat_capture9.pcap 5725\n",
      "dataset/nonvpn_sftp_capture2.pcap\n",
      "file_transfer dataset/nonvpn_sftp_capture2.pcap 338865\n",
      "dataset/nonvpn_skype-chat_capture5.pcap\n",
      "messaging dataset/nonvpn_skype-chat_capture5.pcap 5375\n",
      "dataset/vpn_skype-chat_capture6.pcap\n",
      "messaging dataset/vpn_skype-chat_capture6.pcap 10285\n",
      "dataset/nonvpn_sftp_newcapture2.pcap\n",
      "file_transfer dataset/nonvpn_sftp_newcapture2.pcap 2908\n"
     ]
    }
   ],
   "source": [
    "dataset_path = 'dataset'\n",
    "try:\n",
    "    os.remove(output_csv_file)\n",
    "    print(f\"{output_csv_file} has been successfully deleted.\")\n",
    "except FileNotFoundError:\n",
    "    print(f\"{output_csv_file} does not exist.\")\n",
    "    \n",
    "final_df =  pd.DataFrame()\n",
    "\n",
    "for filename in os.listdir(dataset_path):\n",
    "    if 'pcap' in filename:\n",
    "        pcap_file = os.path.join(dataset_path, filename)\n",
    "        # print(pcap_file)\n",
    "        print(pcap_file)\n",
    "        packet_df = get_packet_details(pcap_file)\n",
    "        final_df = pd.concat([final_df, packet_df], ignore_index=True)"
   ]
  },
  {
   "cell_type": "code",
   "execution_count": 22,
   "id": "82500112-0c98-4ebb-9a59-7e4d96b69b5e",
   "metadata": {},
   "outputs": [],
   "source": [
    "final_df.to_csv(output_csv_file, index=False)\n"
   ]
  },
  {
   "cell_type": "code",
   "execution_count": 23,
   "id": "951167ff-153a-419c-9f7d-2cd6887192c2",
   "metadata": {},
   "outputs": [
    {
     "name": "stdout",
     "output_type": "stream",
     "text": [
      "44270\n"
     ]
    }
   ],
   "source": [
    "print(len(final_df))"
   ]
  },
  {
   "cell_type": "code",
   "execution_count": null,
   "id": "1d8aa0be-dfd7-4833-9387-f8c0ad90e11f",
   "metadata": {},
   "outputs": [],
   "source": []
  }
 ],
 "metadata": {
  "kernelspec": {
   "display_name": "Python 3 (ipykernel)",
   "language": "python",
   "name": "python3"
  },
  "language_info": {
   "codemirror_mode": {
    "name": "ipython",
    "version": 3
   },
   "file_extension": ".py",
   "mimetype": "text/x-python",
   "name": "python",
   "nbconvert_exporter": "python",
   "pygments_lexer": "ipython3",
   "version": "3.9.6"
  }
 },
 "nbformat": 4,
 "nbformat_minor": 5
}
