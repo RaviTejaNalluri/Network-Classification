{
 "cells": [
  {
   "cell_type": "code",
   "execution_count": 2,
   "id": "9fe9ffb1-e64f-493f-9c4b-fb27c66dac81",
   "metadata": {},
   "outputs": [
    {
     "name": "stderr",
     "output_type": "stream",
     "text": [
      "WARNING: No IPv4 address found on anpi0 !\n",
      "WARNING: No IPv4 address found on anpi2 !\n",
      "WARNING: more No IPv4 address found on anpi1 !\n"
     ]
    }
   ],
   "source": [
    "from scapy.all import *\n",
    "import csv\n",
    "import os\n",
    "import scapy\n",
    "from scapy.all import rdpcap\n",
    "from scapy.all import PcapReader, IP, IPv6, TCP, UDP, Raw, Ether\n",
    "from tensorflow.keras.preprocessing.sequence import pad_sequences\n",
    "from collections import defaultdict\n",
    "from tensorflow.keras.layers import Dense, LSTM, Embedding\n",
    "from tensorflow.keras.preprocessing.sequence import pad_sequences\n",
    "from sklearn.preprocessing import OneHotEncoder\n",
    "import numpy as np\n",
    "from sklearn.model_selection import train_test_split\n",
    "from tensorflow.keras.models import Sequential\n",
    "from tensorflow.keras.layers import Embedding, LSTM, Dense, InputLayer\n",
    "import os \n",
    "from tensorflow.keras.layers import Reshape\n",
    "from tensorflow.keras.models import Model\n",
    "import pandas as pd"
   ]
  },
  {
   "cell_type": "code",
   "execution_count": 3,
   "id": "6a2f56bb-d32a-45e7-9dcd-a3e668d0a9a2",
   "metadata": {},
   "outputs": [],
   "source": [
    "dataset_path = 'input_dataset'\n",
    "\n",
    "categorized_filenames = {\n",
    "    'video_stream': [],\n",
    "    'messaging': [],\n",
    "    'file_transfer': [],\n",
    "    'regular_browsing': []\n",
    "}"
   ]
  },
  {
   "cell_type": "code",
   "execution_count": 4,
   "id": "a27bc521-23c6-4420-b3ab-6244eb8de675",
   "metadata": {},
   "outputs": [],
   "source": [
    "def is_tls_handshake(packet):\n",
    "    if packet.haslayer(TCP) and packet[TCP].dport == 443:\n",
    "        try:\n",
    "            raw = packet[TCP].load\n",
    "            if raw and raw.startswith(b'\\x16\\x03'):\n",
    "                # TLS Handshake type\n",
    "                return 'Yes'\n",
    "        except Exception as e:\n",
    "            pass\n",
    "    return 'No'"
   ]
  },
  {
   "cell_type": "code",
   "execution_count": 5,
   "id": "d2790c6d-2e1f-40b7-8765-e3d99c2a277c",
   "metadata": {},
   "outputs": [],
   "source": [
    "from tensorflow.keras.models import load_model\n",
    "model = load_model(\"neural_net_payload.h5\")"
   ]
  },
  {
   "cell_type": "code",
   "execution_count": 6,
   "id": "3ed193d0-1902-41f7-bcb5-c62848ea4957",
   "metadata": {},
   "outputs": [],
   "source": [
    "def payload_to_decimal(packet):\n",
    "    decimal_payload = []\n",
    "    if Raw in packet:\n",
    "        payload = packet[Raw].load\n",
    "        decimal_payload = [int(b) for b in payload]\n",
    "    return decimal_payload"
   ]
  },
  {
   "cell_type": "code",
   "execution_count": 7,
   "id": "3c48472b-907e-4fe9-bb59-50526ad37112",
   "metadata": {},
   "outputs": [],
   "source": [
    "# def extract_data(application_type, file_name, data_size):\n",
    "#     packets = rdpcap(f\"New_Data/{file_name}\")\n",
    "#     for packet in packets[:data_size]:\n",
    "#         try:\n",
    "#             if Raw in packet:\n",
    "#                 decimal_vectors =  payload_to_decimal(packet)\n",
    "#             else:\n",
    "#                 decimal_vectors = []\n",
    "#             input_data.append(decimal_vectors)\n",
    "#             application_types.append(application_type)\n",
    "#         except Exception as e:\n",
    "#             print(e)"
   ]
  },
  {
   "cell_type": "code",
   "execution_count": 8,
   "id": "1f976d8d-ce97-45de-9f46-d62cdd25dc53",
   "metadata": {},
   "outputs": [],
   "source": [
    "def retrain(decimal_payload):\n",
    "    intermediate_layer_model = Model(inputs=model.input, outputs=model.layers[2].output)\n",
    "    max_length = 20\n",
    "    input_data = decimal_payload[:20] if len(decimal_payload) > 20 else decimal_payload\n",
    "    single_input = pad_sequences([decimal_payload], maxlen=max_length, padding='post')\n",
    "    output_from_last_hidden_layer = intermediate_layer_model.predict(single_input)\n",
    "    return output_from_last_hidden_layer"
   ]
  },
  {
   "cell_type": "code",
   "execution_count": 9,
   "id": "e6b67890-cdd7-4511-bd4e-9cd131d08a7d",
   "metadata": {},
   "outputs": [],
   "source": [
    "def run_for_all(pcap_file):\n",
    "    packets=rdpcap(pcap_file)\n",
    "    with open(output_csv_file, 'a', newline='') as csvfile:\n",
    "        fieldnames = ['Timestamp', 'Start Timestamp', 'TLS Handshake', 'Source IP', 'Destination IP', 'Port', 'Retrain','Label']\n",
    "        writer = csv.DictWriter(csvfile, fieldnames=fieldnames)\n",
    "\n",
    "        writer.writeheader()\n",
    "        if 'netflix' in pcap_file or 'youtube' in pcap_file:\n",
    "            label = 'video_stream'\n",
    "        elif 'skype' in pcap_file:\n",
    "            label = 'messaging'\n",
    "        elif 'sftp' in pcap_file:\n",
    "            label = 'file_transfer'\n",
    "        elif 'regular_browsing' in pcap_file:\n",
    "            label = 'regular_browsing'\n",
    "        else:\n",
    "            print(pcap_file)\n",
    "        \n",
    "        #print(label,pcap_file, len(packets))\n",
    "        first_packet = True\n",
    "        count = 0\n",
    "        # Iterate through packets and write relevant info to the CSV\n",
    "        for packet in packets[:2000]:\n",
    "            count = count + 1\n",
    "            #print(count, pcap_file)\n",
    "            if IP in packet:\n",
    "                timestamp = packet.time\n",
    "                if first_packet:\n",
    "                    start_timestamp = packet.time\n",
    "                    first_packet = False\n",
    "                tls_handshake = is_tls_handshake(packet)\n",
    "                src_ip = packet[IP].src\n",
    "                dest_ip = packet[IP].dst\n",
    "                port = packet[IP].sport if TCP in packet or UDP in packet else ''\n",
    "                payload=payload_to_decimal(packet)\n",
    "                output_from_last_hidden_layer=retrain(payload)\n",
    "                \n",
    "                writer.writerow({\n",
    "                    'Timestamp': timestamp,\n",
    "                    'Start Timestamp' : start_timestamp,\n",
    "                    'TLS Handshake': tls_handshake,\n",
    "                    'Source IP': src_ip,\n",
    "                    'Destination IP': dest_ip,\n",
    "                    'Port': port, \n",
    "                    'Retrain':output_from_last_hidden_layer,\n",
    "                    'Label': label,\n",
    "                })"
   ]
  },
  {
   "cell_type": "code",
   "execution_count": 11,
   "id": "7dd338e2-6c01-4fbd-85a4-fa27cb1f2ac7",
   "metadata": {},
   "outputs": [
    {
     "name": "stdout",
     "output_type": "stream",
     "text": [
      "final.csv has been successfully deleted.\n"
     ]
    }
   ],
   "source": [
    "dataset_path = 'input_dataset'\n",
    "output_csv_file = 'final.csv'\n",
    "try:\n",
    "    #os.remove(output_csv_file)\n",
    "    print(f\"{output_csv_file} has been successfully deleted.\")\n",
    "except FileNotFoundError:\n",
    "    print(f\"{output_csv_file} does not exist.\")\n",
    "\n",
    "for filename in os.listdir(dataset_path):\n",
    "    if 'pcap' in filename:\n",
    "        pcap_file = os.path.join(dataset_path, filename)\n",
    "        # print(pcap_file)\n",
    "        run_for_all(pcap_file)"
   ]
  },
  {
   "cell_type": "code",
   "execution_count": null,
   "id": "124895a0-c0e5-4f56-9a52-2b5cefaadf66",
   "metadata": {},
   "outputs": [],
   "source": []
  },
  {
   "cell_type": "code",
   "execution_count": null,
   "id": "a03c1e02-472b-4f4c-9009-6f0caf5989c8",
   "metadata": {},
   "outputs": [],
   "source": [
    "'''\n",
    "\n",
    "divide into batches based on time.\n",
    "\n",
    "features : \n",
    "1. number of packets\n",
    "2. average packet length\n",
    "4. number of unique dests\n",
    "5. TCP protocol count\n",
    "6. UDP protocol count\n",
    "7. sshv2 protocol count\n",
    "8. Inter-arrival time variance\n",
    "9. Packet size variance\n",
    "10. Entropy\n",
    "\n",
    "'''"
   ]
  }
 ],
 "metadata": {
  "kernelspec": {
   "display_name": "Python 3 (ipykernel)",
   "language": "python",
   "name": "python3"
  },
  "language_info": {
   "codemirror_mode": {
    "name": "ipython",
    "version": 3
   },
   "file_extension": ".py",
   "mimetype": "text/x-python",
   "name": "python",
   "nbconvert_exporter": "python",
   "pygments_lexer": "ipython3",
   "version": "3.9.6"
  }
 },
 "nbformat": 4,
 "nbformat_minor": 5
}
